{
 "cells": [
  {
   "cell_type": "markdown",
   "metadata": {},
   "source": [
    "---\n",
    "\n",
    "_You are currently looking at **version 1.1** of this notebook. To download notebooks and datafiles, as well as get help on Jupyter notebooks in the Coursera platform, visit the [Jupyter Notebook FAQ](https://www.coursera.org/learn/python-data-analysis/resources/0dhYG) course resource._\n",
    "\n",
    "---"
   ]
  },
  {
   "cell_type": "code",
   "execution_count": 1,
   "metadata": {
    "collapsed": false
   },
   "outputs": [],
   "source": [
    "import pandas as pd\n",
    "import numpy as np\n",
    "from scipy.stats import ttest_ind\n"
   ]
  },
  {
   "cell_type": "markdown",
   "metadata": {},
   "source": [
    "# Assignment 4 - Hypothesis Testing\n",
    "This assignment requires more individual learning than previous assignments - you are encouraged to check out the [pandas documentation](http://pandas.pydata.org/pandas-docs/stable/) to find functions or methods you might not have used yet, or ask questions on [Stack Overflow](http://stackoverflow.com/) and tag them as pandas and python related. And of course, the discussion forums are open for interaction with your peers and the course staff.\n",
    "\n",
    "Definitions:\n",
    "* A _quarter_ is a specific three month period, Q1 is January through March, Q2 is April through June, Q3 is July through September, Q4 is October through December.\n",
    "* A _recession_ is defined as starting with two consecutive quarters of GDP decline, and ending with two consecutive quarters of GDP growth.\n",
    "* A _recession bottom_ is the quarter within a recession which had the lowest GDP.\n",
    "* A _university town_ is a city which has a high percentage of university students compared to the total population of the city.\n",
    "\n",
    "**Hypothesis**: University towns have their mean housing prices less effected by recessions. Run a t-test to compare the ratio of the mean price of houses in university towns the quarter before the recession starts compared to the recession bottom. (`price_ratio=quarter_before_recession/recession_bottom`)\n",
    "\n",
    "The following data files are available for this assignment:\n",
    "* From the [Zillow research data site](http://www.zillow.com/research/data/) there is housing data for the United States. In particular the datafile for [all homes at a city level](http://files.zillowstatic.com/research/public/City/City_Zhvi_AllHomes.csv), ```City_Zhvi_AllHomes.csv```, has median home sale prices at a fine grained level.\n",
    "* From the Wikipedia page on college towns is a list of [university towns in the United States](https://en.wikipedia.org/wiki/List_of_college_towns#College_towns_in_the_United_States) which has been copy and pasted into the file ```university_towns.txt```.\n",
    "* From Bureau of Economic Analysis, US Department of Commerce, the [GDP over time](http://www.bea.gov/national/index.htm#gdp) of the United States in current dollars (use the chained value in 2009 dollars), in quarterly intervals, in the file ```gdplev.xls```. For this assignment, only look at GDP data from the first quarter of 2000 onward.\n",
    "\n",
    "Each function in this assignment below is worth 10%, with the exception of ```run_ttest()```, which is worth 50%."
   ]
  },
  {
   "cell_type": "code",
   "execution_count": 2,
   "metadata": {
    "collapsed": false
   },
   "outputs": [],
   "source": [
    "# Use this dictionary to map state names to two letter acronyms\n",
    "states = {'OH': 'Ohio', 'KY': 'Kentucky', 'AS': 'American Samoa', 'NV': 'Nevada', 'WY': 'Wyoming', 'NA': 'National', 'AL': 'Alabama', 'MD': 'Maryland', 'AK': 'Alaska', 'UT': 'Utah', 'OR': 'Oregon', 'MT': 'Montana', 'IL': 'Illinois', 'TN': 'Tennessee', 'DC': 'District of Columbia', 'VT': 'Vermont', 'ID': 'Idaho', 'AR': 'Arkansas', 'ME': 'Maine', 'WA': 'Washington', 'HI': 'Hawaii', 'WI': 'Wisconsin', 'MI': 'Michigan', 'IN': 'Indiana', 'NJ': 'New Jersey', 'AZ': 'Arizona', 'GU': 'Guam', 'MS': 'Mississippi', 'PR': 'Puerto Rico', 'NC': 'North Carolina', 'TX': 'Texas', 'SD': 'South Dakota', 'MP': 'Northern Mariana Islands', 'IA': 'Iowa', 'MO': 'Missouri', 'CT': 'Connecticut', 'WV': 'West Virginia', 'SC': 'South Carolina', 'LA': 'Louisiana', 'KS': 'Kansas', 'NY': 'New York', 'NE': 'Nebraska', 'OK': 'Oklahoma', 'FL': 'Florida', 'CA': 'California', 'CO': 'Colorado', 'PA': 'Pennsylvania', 'DE': 'Delaware', 'NM': 'New Mexico', 'RI': 'Rhode Island', 'MN': 'Minnesota', 'VI': 'Virgin Islands', 'NH': 'New Hampshire', 'MA': 'Massachusetts', 'GA': 'Georgia', 'ND': 'North Dakota', 'VA': 'Virginia'}"
   ]
  },
  {
   "cell_type": "code",
   "execution_count": 3,
   "metadata": {
    "collapsed": false
   },
   "outputs": [],
   "source": [
    "import pandas as pd\n",
    "import numpy as np\n",
    "\n",
    "pd.set_option('display.max_columns',None)"
   ]
  },
  {
   "cell_type": "code",
   "execution_count": 4,
   "metadata": {
    "collapsed": false
   },
   "outputs": [],
   "source": [
    "def get_list_of_university_towns():    \n",
    "   \n",
    "    with open('university_towns.txt',encoding='utf-8') as file:\n",
    "        lst = []\n",
    "        state = ''\n",
    "        region = ''\n",
    "        st_region = []\n",
    "        cnt = 0\n",
    "        for line in file:\n",
    "            if '[ed' in line:\n",
    "                state = line.split('[ed')[0].strip()\n",
    "            elif '(' in line:\n",
    "                cnt = cnt + 1\n",
    "                region = line.split('(')[0].strip()\n",
    "                st_region = [state,region]\n",
    "                lst.append(st_region)\n",
    "            else:\n",
    "                region = line.strip('\\n')\n",
    "                st_region = [state,region]\n",
    "                lst.append(st_region)\n",
    "\n",
    "    df = pd.DataFrame(data=lst,columns=['State','RegionName'])\n",
    "    return df\n",
    "#get_list_of_university_towns()"
   ]
  },
  {
   "cell_type": "code",
   "execution_count": 5,
   "metadata": {
    "collapsed": false
   },
   "outputs": [],
   "source": [
    "def get_recession_start():\n",
    "    '''Returns the year and quarter of the recession start time as a \n",
    "    string value in a format such as 2005q3'''\n",
    "    df = pd.read_excel('gdplev.xls')\n",
    "    df = df.drop(df.index[0:7])\n",
    "    df = df.drop('Unnamed: 3',axis=1)\n",
    "    df = df.drop(df.columns[[-1]],axis=1)\n",
    "    df = df.reset_index(drop=True)\n",
    "    df = df.rename_axis({'Unnamed: 1':'Annual - GDP in billions of current dollars',\n",
    "                            'Unnamed: 2':'Annual - GDP in billions of chained 2009 dollars',\n",
    "                            'Unnamed: 4':'GDP Quarter',\n",
    "                            'Unnamed: 5':'GDP in billions of current dollars',\n",
    "                            'Unnamed: 6':'GDP in billions of chained 2009 dollars'}, axis=1)\n",
    "    df = df.fillna('NA')\n",
    "    df = df.iloc[210:]\n",
    "    df = df.reset_index(drop=True)\n",
    "    df_new = df[['GDP Quarter','GDP in billions of chained 2009 dollars']]\n",
    "    df_new['diff'] = df['GDP in billions of chained 2009 dollars']- df['GDP in billions of chained 2009 dollars'].shift(1)\n",
    "    df_new = df_new.drop('GDP in billions of chained 2009 dollars', axis = 1)\n",
    "    for index,row in df_new.iterrows():\n",
    "        if index<len(df_new)-2:\n",
    "            val1 = df_new.iloc[index][1]\n",
    "            val2 = df_new.iloc[index+1][1]\n",
    "            if (val1<0) & (val2<0):\n",
    "                break\n",
    "    return df_new.iloc[index][0]\n"
   ]
  },
  {
   "cell_type": "code",
   "execution_count": 6,
   "metadata": {
    "collapsed": false
   },
   "outputs": [],
   "source": [
    "def get_recession_end():\n",
    "    '''Returns the year and quarter of the recession end time as a \n",
    "    string value in a format such as 2005q3'''\n",
    "    df = pd.read_excel('gdplev.xls')\n",
    "    df = df.drop(df.index[0:7])\n",
    "    df = df.drop('Unnamed: 3',axis=1)\n",
    "    df = df.drop(df.columns[[-1]],axis=1)\n",
    "    df = df.reset_index(drop=True)\n",
    "    df = df.rename_axis({'Unnamed: 1':'Annual - GDP in billions of current dollars',\n",
    "                            'Unnamed: 2':'Annual - GDP in billions of chained 2009 dollars',\n",
    "                            'Unnamed: 4':'GDP Quarter',\n",
    "                            'Unnamed: 5':'GDP in billions of current dollars',\n",
    "                            'Unnamed: 6':'GDP in billions of chained 2009 dollars'}, axis=1)\n",
    "    df = df.fillna('NA')\n",
    "    df = df.iloc[210:]\n",
    "    df = df.reset_index(drop=True)\n",
    "    df_new = df[['GDP Quarter','GDP in billions of chained 2009 dollars']]\n",
    "    df_new['diff'] = df['GDP in billions of chained 2009 dollars']- df['GDP in billions of chained 2009 dollars'].shift(1)\n",
    "    df_new = df_new.drop('GDP in billions of chained 2009 dollars', axis = 1)\n",
    "    start = ''\n",
    "    for index,row in df_new.iterrows():\n",
    "        if index<len(df_new)-2:\n",
    "            val1 = df_new.iloc[index][1]\n",
    "            val2 = df_new.iloc[index+1][1]\n",
    "            if (val1<0) & (val2<0):\n",
    "                break\n",
    "    start = index\n",
    "    end = ''\n",
    "    for index,row in df_new.iloc[start:].iterrows():\n",
    "        if index<len(df_new)-2:\n",
    "            val1 = df_new.iloc[index][1]\n",
    "            val2 = df_new.iloc[index+1][1]\n",
    "            if (val1>0) & (val2>0):\n",
    "                break\n",
    "    end = index+1\n",
    "    return df_new.iloc[end][0]\n"
   ]
  },
  {
   "cell_type": "code",
   "execution_count": 7,
   "metadata": {
    "collapsed": false
   },
   "outputs": [],
   "source": [
    "def get_recession_bottom():\n",
    "    '''Returns the year and quarter of the recession bottom time as a \n",
    "    string value in a format such as 2005q3'''\n",
    "    df = pd.read_excel('gdplev.xls')\n",
    "    df = df.drop(df.index[0:7])\n",
    "    df = df.drop('Unnamed: 3',axis=1)\n",
    "    df = df.drop(df.columns[[-1]],axis=1)\n",
    "    df = df.reset_index(drop=True)\n",
    "    df = df.rename_axis({'Unnamed: 1':'Annual - GDP in billions of current dollars',\n",
    "                            'Unnamed: 2':'Annual - GDP in billions of chained 2009 dollars',\n",
    "                            'Unnamed: 4':'GDP Quarter',\n",
    "                            'Unnamed: 5':'GDP in billions of current dollars',\n",
    "                            'Unnamed: 6':'GDP in billions of chained 2009 dollars'}, axis=1)\n",
    "    df = df.fillna('NA')\n",
    "    df = df.iloc[210:]\n",
    "    df = df.reset_index(drop=True)\n",
    "    df_new = df[['GDP Quarter','GDP in billions of chained 2009 dollars']]\n",
    "    df_new['diff'] = df['GDP in billions of chained 2009 dollars']- df['GDP in billions of chained 2009 dollars'].shift(1)\n",
    "    df_new = df_new.drop('GDP in billions of chained 2009 dollars', axis = 1)\n",
    "    start = ''\n",
    "    for index,row in df_new.iterrows():\n",
    "        if index<len(df_new)-2:\n",
    "            val1 = df_new.iloc[index][1]\n",
    "            val2 = df_new.iloc[index+1][1]\n",
    "            if (val1<0) & (val2<0):\n",
    "                break\n",
    "    start = index\n",
    "    end = ''\n",
    "    for index,row in df_new.iloc[start:].iterrows():\n",
    "        if index<len(df_new)-2:\n",
    "            val1 = df_new.iloc[index][1]\n",
    "            val2 = df_new.iloc[index+1][1]\n",
    "            if (val1<0) & (val2>0):\n",
    "                break\n",
    "    end = index\n",
    "    return df_new.iloc[end][0]"
   ]
  },
  {
   "cell_type": "code",
   "execution_count": 8,
   "metadata": {
    "collapsed": false
   },
   "outputs": [],
   "source": [
    "def convert_housing_data_to_quarters():\n",
    "    '''Converts the housing data to quarters and returns it as mean \n",
    "    values in a dataframe. This dataframe should be a dataframe with\n",
    "    columns for 2000q1 through 2016q3, and should have a multi-index\n",
    "    in the shape of [\"State\",\"RegionName\"].\n",
    "    \n",
    "    Note: Quarters are defined in the assignment description, they are\n",
    "    not arbitrary three month periods.\n",
    "    \n",
    "    The resulting dataframe should have 67 columns, and 10,730 rows.\n",
    "    '''\n",
    "    df = pd.read_csv('City_Zhvi_AllHomes.csv')\n",
    "    df['State'] = df['State'].apply(lambda st:states.get(st))\n",
    "    df = df.set_index(['State','RegionName'])\n",
    "    df = df.loc[:,'2000-01':'2016-08']\n",
    "    df.columns = pd.to_datetime(df.columns)\n",
    "    mdf = df.resample('Q',axis=1).mean()\n",
    "    mdf.columns = ['{}q{}'.format(x.year,x.quarter) for x in mdf.columns]\n",
    "    return mdf\n",
    "#convert_housing_data_to_quarters()\n",
    "\n",
    "    "
   ]
  },
  {
   "cell_type": "code",
   "execution_count": 9,
   "metadata": {
    "collapsed": false
   },
   "outputs": [
    {
     "name": "stderr",
     "output_type": "stream",
     "text": [
      "/opt/conda/lib/python3.5/site-packages/ipykernel/__main__.py:18: SettingWithCopyWarning: \n",
      "A value is trying to be set on a copy of a slice from a DataFrame.\n",
      "Try using .loc[row_indexer,col_indexer] = value instead\n",
      "\n",
      "See the caveats in the documentation: http://pandas.pydata.org/pandas-docs/stable/indexing.html#indexing-view-versus-copy\n",
      "/opt/conda/lib/python3.5/site-packages/ipykernel/__main__.py:22: SettingWithCopyWarning: \n",
      "A value is trying to be set on a copy of a slice from a DataFrame.\n",
      "Try using .loc[row_indexer,col_indexer] = value instead\n",
      "\n",
      "See the caveats in the documentation: http://pandas.pydata.org/pandas-docs/stable/indexing.html#indexing-view-versus-copy\n"
     ]
    },
    {
     "data": {
      "text/plain": [
       "(True, 0.002724063704753125, 'university town')"
      ]
     },
     "execution_count": 9,
     "metadata": {},
     "output_type": "execute_result"
    }
   ],
   "source": [
    "def run_ttest():\n",
    "    '''First creates new data showing the decline or growth of housing prices\n",
    "    between the recession start and the recession bottom. Then runs a ttest\n",
    "    comparing the university town values to the non-university towns values, \n",
    "    return whether the alternative hypothesis (that the two groups are the same)\n",
    "    is true or not as well as the p-value of the confidence. \n",
    "    \n",
    "    Return the tuple (different, p, better) where different=True if the t-test is\n",
    "    True at a p<0.01 (we reject the null hypothesis), or different=False if \n",
    "    otherwise (we cannot reject the null hypothesis). The variable p should\n",
    "    be equal to the exact p value returned from scipy.stats.ttest_ind(). The\n",
    "    value for better should be either \"university town\" or \"non-university town\"\n",
    "    depending on which has a lower mean price ratio (which is equivilent to a\n",
    "    reduced market loss).'''\n",
    "    house_price = convert_housing_data_to_quarters()\n",
    "    rec_start_q = get_recession_start()\n",
    "    rec_start_before_qrt_idx = int(rec_start_q[len(rec_start_q)-1:len(rec_start_q)]) - 1\n",
    "    last_char = rec_start_q[len(rec_start_q)-1:len(rec_start_q)]\n",
    "    rec_start_q = rec_start_q.replace(last_char,str(rec_start_before_qrt_idx))\n",
    "\n",
    "    df = house_price.loc[:,rec_start_q:get_recession_bottom()]\n",
    "    df['price_ratio'] = df[rec_start_q].div(df[get_recession_bottom()])\n",
    "    \n",
    "    df_univ_towns = get_list_of_university_towns()\n",
    "    df_univ_towns = df_univ_towns.set_index(['State','RegionName'])\n",
    "    tuples =[tuple(x) for x in df_univ_towns.to_records()]\n",
    "    univ_town = df.loc[df.index.isin(tuples)][['price_ratio']]\n",
    "    non_univ_towns = df.loc[~df.index.isin(tuples)][['price_ratio']]\n",
    "    value, pvalue = ttest_ind(univ_town,non_univ_towns,nan_policy='omit')\n",
    "    #print(float(pvalue.data))\n",
    "    different = True\n",
    "    if pvalue < 0.01:\n",
    "        different = True\n",
    "    else:\n",
    "        different = False\n",
    "    mean_ratio_town = ''\n",
    "    if univ_town['price_ratio'].mean() < non_univ_towns['price_ratio'].mean():\n",
    "        mean_ratio_town = \"university town\"\n",
    "    else:\n",
    "        mean_ratio_town = \"non-university town\"\n",
    "    return (different,float(pvalue.data),mean_ratio_town)\n",
    "(run_ttest())"
   ]
  },
  {
   "cell_type": "code",
   "execution_count": null,
   "metadata": {
    "collapsed": true
   },
   "outputs": [],
   "source": []
  }
 ],
 "metadata": {
  "coursera": {
   "course_slug": "python-data-analysis",
   "graded_item_id": "Il9Fx",
   "launcher_item_id": "TeDW0",
   "part_id": "WGlun"
  },
  "kernelspec": {
   "display_name": "Python 3",
   "language": "python",
   "name": "python3"
  },
  "language_info": {
   "codemirror_mode": {
    "name": "ipython",
    "version": 3
   },
   "file_extension": ".py",
   "mimetype": "text/x-python",
   "name": "python",
   "nbconvert_exporter": "python",
   "pygments_lexer": "ipython3",
   "version": "3.5.2"
  }
 },
 "nbformat": 4,
 "nbformat_minor": 0
}
